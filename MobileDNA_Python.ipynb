{
 "cells": [
  {
   "cell_type": "code",
   "execution_count": 1,
   "id": "29ae8919-b149-4796-8fcd-98916f4b4bad",
   "metadata": {},
   "outputs": [],
   "source": [
    "from bs4 import BeautifulSoup\n",
    "import pandas as pd\n",
    "import numpy as np\n",
    "import requests as re"
   ]
  },
  {
   "cell_type": "code",
   "execution_count": 2,
   "id": "ef9738ab-3e07-41ee-8913-767e8855d941",
   "metadata": {},
   "outputs": [],
   "source": [
    "base_url = r\"https://mobilednajournal.biomedcentral.com/articles\""
   ]
  },
  {
   "cell_type": "code",
   "execution_count": 20,
   "id": "009f6eb0",
   "metadata": {},
   "outputs": [],
   "source": [
    "year_dict = dict(enumerate([x for x in range(1,14)],start=2010))"
   ]
  },
  {
   "cell_type": "code",
   "execution_count": 24,
   "id": "94aa1642-a82e-4867-8263-ea3d2303acbc",
   "metadata": {},
   "outputs": [
    {
     "name": "stdout",
     "output_type": "stream",
     "text": [
      "Enter topic: RNA pigs\n",
      "Enter year: 2013\n"
     ]
    }
   ],
   "source": [
    "query = str(input(\"Enter topic: \"))\n",
    "year = int(input(\"Enter year: \"))\n",
    "year = str(year_dict.get(year))"
   ]
  },
  {
   "cell_type": "code",
   "execution_count": 25,
   "id": "89c4b975-c59a-41eb-bdca-d297cb75d659",
   "metadata": {},
   "outputs": [],
   "source": [
    "params = {'query':query,'volume':year,'searchType':'','tab':'keyword'}"
   ]
  },
  {
   "cell_type": "code",
   "execution_count": 26,
   "id": "2341304f-f61f-4ec9-aee8-4c5834ff1911",
   "metadata": {},
   "outputs": [],
   "source": [
    "content = re.get(base_url,params)"
   ]
  },
  {
   "cell_type": "code",
   "execution_count": 27,
   "id": "2e85f95c-af19-484a-a775-65f684b9937f",
   "metadata": {},
   "outputs": [],
   "source": [
    "base_body = content.text\n",
    "base_soup = BeautifulSoup(base_body, 'html.parser')"
   ]
  },
  {
   "cell_type": "code",
   "execution_count": 28,
   "id": "654d8ab8-b625-4411-af3b-6c10725b680f",
   "metadata": {},
   "outputs": [],
   "source": [
    "title_ls = list()\n",
    "titles = base_soup.find_all(\"h3\", class_ = \"c-listing__title\")\n",
    "for i in titles:\n",
    "    title_ls.append(i.text.strip())"
   ]
  },
  {
   "cell_type": "code",
   "execution_count": 29,
   "id": "6031fc3f-925d-4d39-8a8b-f0893e7e79d3",
   "metadata": {},
   "outputs": [],
   "source": [
    "content_year = re.get(base_url, params)"
   ]
  },
  {
   "cell_type": "code",
   "execution_count": 30,
   "id": "80b799f8-8ef5-4092-83e2-503fa880a0e5",
   "metadata": {},
   "outputs": [],
   "source": [
    "year_body = content_year.text\n",
    "year_soup = BeautifulSoup(year_body, 'html.parser')"
   ]
  },
  {
   "cell_type": "code",
   "execution_count": 31,
   "id": "f78d6d2c-224c-4ef5-9620-50130ee0173a",
   "metadata": {},
   "outputs": [],
   "source": [
    "ahref_ls = list()\n",
    "ahrefs = year_soup.find_all(\"a\", itemprop = 'url')\n",
    "for i in ahrefs[1:]:\n",
    "    ahref_ls.append(base_url.replace(\"/articles\",'') + i['href'])"
   ]
  },
  {
   "cell_type": "code",
   "execution_count": 32,
   "id": "96b66073-a3d9-49cb-80cb-1b45678fb9e0",
   "metadata": {},
   "outputs": [],
   "source": [
    "author_major= list()\n",
    "for i in ahref_ls:\n",
    "    author_minor = list()\n",
    "    temp = BeautifulSoup(re.get(i).text, 'html.parser')\n",
    "    authors = temp.find_all(\"a\", attrs= {\"data-test\": \"author-name\"})\n",
    "    for i in authors:\n",
    "        author_minor.append(i.text)\n",
    "    author_major.append(','.join(author_minor))"
   ]
  },
  {
   "cell_type": "code",
   "execution_count": 33,
   "id": "444daee9-c406-49ab-8617-b517c2f79e1e",
   "metadata": {},
   "outputs": [],
   "source": [
    "df = pd.DataFrame({\n",
    "    'titles': title_ls,\n",
    "    'author': author_major\n",
    "})"
   ]
  },
  {
   "cell_type": "code",
   "execution_count": 34,
   "id": "56f73d46-3925-468f-8a53-cb4ee0601d91",
   "metadata": {},
   "outputs": [],
   "source": [
    "df.to_csv(r\"C:\\Users\\joses\\source\\repos\\Mobile_DNA_BS4_WebScrape\\Data.txt\", sep=';')"
   ]
  },
  {
   "cell_type": "code",
   "execution_count": null,
   "id": "5df7b4ab-79fc-4965-8959-1e0e37ca35cc",
   "metadata": {},
   "outputs": [],
   "source": []
  }
 ],
 "metadata": {
  "kernelspec": {
   "display_name": "Python 3 (ipykernel)",
   "language": "python",
   "name": "python3"
  },
  "language_info": {
   "codemirror_mode": {
    "name": "ipython",
    "version": 3
   },
   "file_extension": ".py",
   "mimetype": "text/x-python",
   "name": "python",
   "nbconvert_exporter": "python",
   "pygments_lexer": "ipython3",
   "version": "3.9.16"
  }
 },
 "nbformat": 4,
 "nbformat_minor": 5
}
